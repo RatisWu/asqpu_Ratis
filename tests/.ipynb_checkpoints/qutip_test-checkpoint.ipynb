{
 "cells": [
  {
   "cell_type": "markdown",
   "id": "26bccb0d",
   "metadata": {},
   "source": [
    "# Simulating randomized benchmarking\n",
    "\n",
    "In this example, we will reproduce a randomized benchmarking experiment used in Figure 3a of [Piltz et. al.](https://www.nature.com/articles/ncomms5679?origin=ppub)\n",
    "\n",
    "Note: This example is quite computationally expensivem, hence for the full simulation we use [joblib](https://joblib.readthedocs.io/en/latest/) for parallel computing. However, you don't need this to run the demo.\n"
   ]
  },
  {
   "cell_type": "code",
   "execution_count": 58,
   "id": "355292f1",
   "metadata": {},
   "outputs": [],
   "source": [
    "import matplotlib.pyplot as plt\n",
    "from scipy.optimize import curve_fit\n",
    "\n",
    "import numpy as np\n",
    "from qutip import sigmax, sigmay, sigmaz, basis, qeye, tensor, Qobj, fock_dm\n",
    "from qutip_qip.circuit import QubitCircuit, Gate\n",
    "from qutip_qip.device import ModelProcessor, Model\n",
    "from qutip_qip.compiler import GateCompiler, Instruction\n",
    "from qutip import Options\n",
    "from qutip_qip.noise import Noise"
   ]
  },
  {
   "cell_type": "markdown",
   "id": "43a3e654",
   "metadata": {},
   "source": [
    "We build a two-qubit Processor, where the second qubit is detuned from the first one by $\\delta= 1.852$MHz. A sequence of $\\pi$-pulses with Rabi frequency of $\\Omega= 20$KHz and random phases are applied to the first qubit. We define noise such that the same pulse also applies to the second qubit. Because of the detuning, this pulse does not flip the second qubit but subjects it to a diffusive behaviour, so that the average fidelity of the second qubit with respect to the initial state decreases.\n",
    "\n",
    "Here, we reproduce these results with a two-qubit `Processor`.\n",
    "We start with an initial state of fidelity 0.975 and simulate the Hamiltonian\n",
    "\\begin{align}\n",
    "H=\\Omega(t)(\\sigma^x_0 + \\lambda \\sigma^x_1) + \\delta\\sigma^z_1\n",
    ",\n",
    "\\end{align}\n",
    "where $\\lambda$ is the ratio between the cross-talk pulse's amplitudes."
   ]
  },
  {
   "cell_type": "markdown",
   "id": "3afdd083",
   "metadata": {},
   "source": [
    "In the cell below, we first build a Hamiltonian model called `MyModel`.\n",
    "For simplicity, we only include two single-qubit control Hamiltonians: $\\sigma_x$ and $\\sigma_y$.\n",
    "We then define the compiling routines for the two types of rotation gates RX and RY.\n",
    "In addition, we also define a rotation gate with mixed X and Y quadrature, parameterized by a phase $\\phi$, $\\cos(\\phi)\\sigma_x+\\sin(\\phi)\\sigma_y$.\n",
    "This will be used later in the example of custom noise.\n",
    "\n",
    "We then initialize a `ModelProcessor` with this model.\n",
    "In the `ModelProcessor`, the default simulation workflow is already defined, such as the `load_circuit` method.\n",
    "Since rotations around the $x$ and $y$ axes are the native gates of our hardware, we define them in the attribute \\texttt{native\\_gates}.\n",
    "Providing this native gates set, rotation around $z$ axis will be automatically decomposed into rotations around $x$ and $y$ axes.\n",
    "We define a circuit consisting of $\\pi/2$ rotation followed by a Z gate.\n",
    "The compiled pulses are shown in \\cref{fig:customize pulse}, where the Z gate is decomposed into rotations around $x$ and $y$ axes."
   ]
  },
  {
   "cell_type": "code",
   "execution_count": 60,
   "id": "17cd84d0",
   "metadata": {},
   "outputs": [
    {
     "name": "stdout",
     "output_type": "stream",
     "text": [
      "total_op\n",
      "Quantum object: dims = [[2], [2]], shape = (2, 2), type = oper, isherm = False\n",
      "Qobj data =\n",
      "[[-0.5-0.5j  0.5-0.5j]\n",
      " [-0.5-0.5j -0.5+0.5j]]\n",
      "RX 0.5\n",
      "False\n",
      "RX 1.0\n",
      "False\n",
      "RX -0.5\n",
      "False\n",
      "RY 0.5\n",
      "False\n",
      "RY 1.0\n",
      "False\n",
      "RY -0.5\n",
      "False\n",
      "idle\n",
      " False\n"
     ]
    },
    {
     "data": {
      "image/png": "[encoded data removed]",
      "text/plain": [
       "<Figure size 600x360 with 2 Axes>"
      ]
     },
     "metadata": {},
     "output_type": "display_data"
    }
   ],
   "source": [
    "class MyModel(Model):\n",
    "    \"\"\"A custom Hamiltonian model with sigmax and sigmay control.\"\"\"\n",
    "    def get_control(self, label):\n",
    "        \"\"\"\n",
    "        Get an available control Hamiltonian.\n",
    "        For instance, sigmax control on the zeroth qubits is labeled \"sx0\".\n",
    "\n",
    "        Args:\n",
    "            label (str): The label of the Hamiltonian\n",
    "\n",
    "        Returns:\n",
    "            The Hamiltonian and target qubits as a tuple (qutip.Qobj, list).\n",
    "        \"\"\"\n",
    "        targets = int(label[2:])\n",
    "        if label[:2] == \"sx\":\n",
    "            return 2 * np.pi * sigmax() / 2, [targets]\n",
    "        elif label[:2] == \"sy\":\n",
    "            return 2 * np.pi * sigmay() / 2, [targets]\n",
    "        else:\n",
    "            raise NotImplementError(\"Unknown control.\")\n",
    "\n",
    "class MyCompiler(GateCompiler):\n",
    "    \"\"\"Custom compiler for generating pulses from gates using the base class \n",
    "    GateCompiler.\n",
    "\n",
    "    Args:\n",
    "        num_qubits (int): The number of qubits in the processor\n",
    "        params (dict): A dictionary of parameters for gate pulses such as\n",
    "                       the pulse amplitude.\n",
    "    \"\"\"\n",
    "\n",
    "    def __init__(self, num_qubits, params):\n",
    "        super().__init__(num_qubits, params=params)\n",
    "        self.params = params\n",
    "        self.gate_compiler = {\n",
    "            \"RX\": self.single_qubit_gate_compiler,\n",
    "            \"RY\": self.single_qubit_gate_compiler,\n",
    "        }\n",
    "\n",
    "    def generate_pulse(self, gate, tlist, coeff, phase=0.0):\n",
    "        \"\"\"Generates the pulses.\n",
    "\n",
    "        Args:\n",
    "            gate (qutip_qip.circuit.Gate): A qutip Gate object.\n",
    "            tlist (array): A list of times for the evolution.\n",
    "            coeff (array): An array of coefficients for the gate pulses\n",
    "            phase (float): The value of the phase for the gate.\n",
    "\n",
    "        Returns:\n",
    "            Instruction (qutip_qip.compiler.instruction.Instruction): An instruction\n",
    "            to implement a gate containing the control pulses.                                               \n",
    "        \"\"\"\n",
    "\n",
    "        pulse_info = [\n",
    "            # (control label, coeff)\n",
    "            (\"sx\" + str(gate.targets[0]), np.cos(phase) * coeff),\n",
    "            (\"sy\" + str(gate.targets[0]), np.sin(phase) * coeff),\n",
    "        ]\n",
    "        #print(tlist)\n",
    "        return [Instruction(gate, tlist=tlist, pulse_info=pulse_info)]\n",
    "\n",
    "    def single_qubit_gate_compiler(self, gate, args):\n",
    "        \"\"\"Compiles single-qubit gates to pulses.\n",
    "        \n",
    "        Args:\n",
    "            gate (qutip_qip.circuit.Gate): A qutip Gate object.\n",
    "        \n",
    "        Returns:\n",
    "            Instruction (qutip_qip.compiler.instruction.Instruction): An instruction\n",
    "            to implement a gate containing the control pulses.\n",
    "        \"\"\"\n",
    "        \n",
    "        \n",
    "        # gate.arg_value is the rotation angle\n",
    "        coeff, tlist= self.generate_pulse_shape(\n",
    "                \"hann\",  # Scipy Hann window\n",
    "                100,  # 100 sampling point\n",
    "                maximum= 1,\n",
    "                area= 1,  # 1/2 becuase we use sigmax as the operator instead of sigmax/2\n",
    "            )\n",
    "        # tlist = np.abs(gate.arg_value) / self.params[\"pulse_amplitude\"]\n",
    "        coeff *= self.params[\"pulse_amplitude\"] *gate.arg_value/np.pi\n",
    "        if gate.name == \"RX\":\n",
    "            return self.generate_pulse(gate, tlist, coeff, phase=0.0)\n",
    "        elif gate.name == \"RY\":\n",
    "            return self.generate_pulse(gate, tlist, coeff, phase=np.pi / 2)\n",
    "\n",
    "\n",
    "\n",
    "# Define a circuit and run the simulation\n",
    "num_qubits = 1\n",
    "num_gates = 10\n",
    "circuit = QubitCircuit(1)\n",
    "\n",
    "vac = basis(2, 0)\n",
    "\n",
    "gates_set = [\n",
    "    Gate(\"RX\", 0, arg_value=  np.pi / 2),\n",
    "    Gate(\"RX\", 0, arg_value=  np.pi),\n",
    "    Gate(\"RX\", 0, arg_value= -np.pi / 2),\n",
    "    Gate(\"RY\", 0, arg_value=  np.pi / 2),\n",
    "    Gate(\"RY\", 0, arg_value=  np.pi),\n",
    "    Gate(\"RY\", 0, arg_value= -np.pi / 2),\n",
    "]\n",
    "circuit = QubitCircuit(num_qubits)\n",
    "\n",
    "total_op = qeye(2)\n",
    "for ind in np.random.randint(0, 6, num_gates):\n",
    "    random_gate = gates_set[ind]\n",
    "    circuit.add_gate(random_gate)\n",
    "    #print(random_gate.name, random_gate.arg_value/np.pi)\n",
    "    g_qobj = random_gate.get_compact_qobj()\n",
    "    #print( g_qobj )\n",
    "    total_op *= g_qobj\n",
    "    #print( total_op )\n",
    "\n",
    "print(f\"total_op\")\n",
    "print(total_op)\n",
    "\n",
    "    \n",
    "for ind in range(0, 6):\n",
    "    compare_gate = gates_set[ind]\n",
    "    print(compare_gate.name, compare_gate.arg_value/np.pi)\n",
    "    g_qobj = compare_gate.get_compact_qobj()\n",
    "    #print( g_qobj )\n",
    "    print( total_op == compare_gate )\n",
    "print( \"idle\\n\", total_op == qeye(2) )\n",
    "    \n",
    "# Simulate the circuit.\n",
    "myprocessor = ModelProcessor(model=MyModel(num_qubits))\n",
    "myprocessor.native_gates = [\"RX\", \"RY\"]\n",
    "\n",
    "mycompiler = MyCompiler(num_qubits, {\"pulse_amplitude\": 0.02})\n",
    "\n",
    "myprocessor.load_circuit(circuit, compiler=mycompiler)\n",
    "result = myprocessor.run_state(basis(2, 0))\n",
    "\n",
    "fig, ax = myprocessor.plot_pulses(\n",
    "    figsize=(5, 3), dpi=120,\n",
    "    use_control_latex=False\n",
    ")\n",
    "ax[-1].set_xlabel(\"$t$\")\n",
    "fig.tight_layout()"
   ]
  },
  {
   "cell_type": "markdown",
   "id": "190e9545",
   "metadata": {},
   "source": [
    "We plot a recorded result as an illustration."
   ]
  },
  {
   "cell_type": "code",
   "execution_count": 5,
   "id": "dc34fdf3",
   "metadata": {},
   "outputs": [
    {
     "data": {
      "image/png": "[encoded data removed]",
      "text/plain": [
       "<Figure size 500x300 with 1 Axes>"
      ]
     },
     "metadata": {
      "needs_background": "light"
     },
     "output_type": "display_data"
    }
   ],
   "source": [
    "# Recorded result of a full simulation\n",
    "num_gates_list = [250, 500, 750, 1000, 1250, 1500]\n",
    "fidelity = [\n",
    "    0.9566768747558925,\n",
    "    0.9388905075892828,\n",
    "    0.9229470389282218,\n",
    "    0.9075513000339529,\n",
    "    0.8941659320508855,\n",
    "    0.8756519016627652\n",
    "]\n",
    "\n",
    "fidelity_error = [\n",
    "    0.00042992029265330223,\n",
    "    0.0008339882813741004,\n",
    "    0.0012606632769758602,\n",
    "    0.0014643550337816722,\n",
    "    0.0017695604671714809,\n",
    "    0.0020964978542167617\n",
    "]\n",
    "\n",
    "\n",
    "def rb_curve(x, a):\n",
    "    return (1 / 2 + np.exp(-2 * a * x) / 2) * 0.975\n",
    "\n",
    "\n",
    "pos, cov = curve_fit(rb_curve, num_gates_list, fidelity, p0=[0.001])\n",
    "\n",
    "xline = np.linspace(0, 1700, 200)\n",
    "yline = rb_curve(xline, *pos)\n",
    "\n",
    "fig, ax = plt.subplots(figsize=(5, 3), dpi=100)\n",
    "ax.errorbar(\n",
    "    num_gates_list, fidelity, yerr=fidelity_error, fmt=\".\", capsize=2, color=\"slategrey\"\n",
    ")\n",
    "ax.plot(xline, yline, color=\"slategrey\")\n",
    "ax.set_ylabel(\"Average fidelity\")\n",
    "ax.set_xlabel(r\"Number of $\\pi$ rotations\")\n",
    "ax.set_xlim((0, 1700));"
   ]
  },
  {
   "cell_type": "code",
   "execution_count": 6,
   "id": "5de0f329",
   "metadata": {},
   "outputs": [
    {
     "name": "stdout",
     "output_type": "stream",
     "text": [
      "qutip-qip version: 0.2.2\n"
     ]
    },
    {
     "ename": "ModuleNotFoundError",
     "evalue": "No module named 'Cython'",
     "output_type": "error",
     "traceback": [
      "\u001b[1;31m---------------------------------------------------------------------------\u001b[0m",
      "\u001b[1;31mModuleNotFoundError\u001b[0m                       Traceback (most recent call last)",
      "\u001b[1;32mc:\\Users\\shiau\\ASQPU\\tests\\qutip_test.ipynb Cell 12'\u001b[0m in \u001b[0;36m<cell line: 3>\u001b[1;34m()\u001b[0m\n\u001b[0;32m      <a href='vscode-notebook-cell:/c%3A/Users/shiau/ASQPU/tests/qutip_test.ipynb#ch0000011?line=0'>1</a>\u001b[0m \u001b[39mimport\u001b[39;00m \u001b[39mqutip_qip\u001b[39;00m\n\u001b[0;32m      <a href='vscode-notebook-cell:/c%3A/Users/shiau/ASQPU/tests/qutip_test.ipynb#ch0000011?line=1'>2</a>\u001b[0m \u001b[39mprint\u001b[39m(\u001b[39m\"\u001b[39m\u001b[39mqutip-qip version:\u001b[39m\u001b[39m\"\u001b[39m, qutip_qip\u001b[39m.\u001b[39mversion\u001b[39m.\u001b[39mversion)\n\u001b[1;32m----> <a href='vscode-notebook-cell:/c%3A/Users/shiau/ASQPU/tests/qutip_test.ipynb#ch0000011?line=2'>3</a>\u001b[0m \u001b[39mfrom\u001b[39;00m \u001b[39mqutip\u001b[39;00m\u001b[39m.\u001b[39;00m\u001b[39mipynbtools\u001b[39;00m \u001b[39mimport\u001b[39;00m version_table\n\u001b[0;32m      <a href='vscode-notebook-cell:/c%3A/Users/shiau/ASQPU/tests/qutip_test.ipynb#ch0000011?line=3'>4</a>\u001b[0m version_table()\n",
      "File \u001b[1;32mc:\\Users\\shiau\\.conda\\envs\\PYQUM_package_test\\lib\\site-packages\\qutip\\ipynbtools.py:42\u001b[0m, in \u001b[0;36m<module>\u001b[1;34m\u001b[0m\n\u001b[0;32m     40\u001b[0m \u001b[39mimport\u001b[39;00m \u001b[39mnumpy\u001b[39;00m\n\u001b[0;32m     41\u001b[0m \u001b[39mimport\u001b[39;00m \u001b[39mscipy\u001b[39;00m\n\u001b[1;32m---> 42\u001b[0m \u001b[39mimport\u001b[39;00m \u001b[39mCython\u001b[39;00m\n\u001b[0;32m     43\u001b[0m \u001b[39mimport\u001b[39;00m \u001b[39mmatplotlib\u001b[39;00m\n\u001b[0;32m     44\u001b[0m \u001b[39mimport\u001b[39;00m \u001b[39mIPython\u001b[39;00m\n",
      "\u001b[1;31mModuleNotFoundError\u001b[0m: No module named 'Cython'"
     ]
    }
   ],
   "source": [
    "import qutip_qip\n",
    "print(\"qutip-qip version:\", qutip_qip.version.version)\n",
    "from qutip.ipynbtools import version_table\n",
    "version_table()"
   ]
  }
 ],
 "metadata": {
  "kernelspec": {
   "display_name": "Python 3 (ipykernel)",
   "language": "python",
   "name": "python3"
  },
  "language_info": {
   "codemirror_mode": {
    "name": "ipython",
    "version": 3
   },
   "file_extension": ".py",
   "mimetype": "text/x-python",
   "name": "python",
   "nbconvert_exporter": "python",
   "pygments_lexer": "ipython3",
   "version": "3.9.12"
  },
  "vscode": {
   "interpreter": {
    "hash": "fd8d13b47661a27824b161f371e9cf6dcb804f0747a300d1bf5a62c351faa4fd"
   }
  }
 },
 "nbformat": 4,
 "nbformat_minor": 5
}
