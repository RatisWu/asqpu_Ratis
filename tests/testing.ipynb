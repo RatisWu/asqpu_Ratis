{
 "cells": [
  {
   "cell_type": "code",
   "execution_count": null,
   "id": "f7f5cd18-2bb8-4e83-8768-9e57ac5cdc63",
   "metadata": {},
   "outputs": [],
   "source": [
    "if __name__ == \"__main__\":\n",
    "    import doctest\n",
    "    doctest.testmod()"
   ]
  }
 ],
 "metadata": {
  "kernelspec": {
   "display_name": "Python 3.10.4 ('jacky')",
   "language": "python",
   "name": "python3"
  },
  "language_info": {
   "codemirror_mode": {
    "name": "ipython",
    "version": 3
   },
   "file_extension": ".py",
   "mimetype": "text/x-python",
   "name": "python",
   "nbconvert_exporter": "python",
   "pygments_lexer": "ipython3",
   "version": "3.10.4"
  },
  "vscode": {
   "interpreter": {
    "hash": "4599d37e7e0f219ea77b405768d231c867647fa3005dc1491b24d9f132910146"
   }
  }
 },
 "nbformat": 4,
 "nbformat_minor": 5
}
